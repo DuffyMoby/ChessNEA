{
 "cells": [
  {
   "cell_type": "code",
   "execution_count": 6,
   "metadata": {},
   "outputs": [],
   "source": [
    "import chess, chess.svg\n",
    "from eval import evaluate\n",
    "import math\n",
    "from collections import namedtuple\n",
    "import os\n",
    "import pandas as pd\n",
    "from search import search, searchAB\n",
    "import torch\n",
    "import numpy as np\n",
    "import pickle\n",
    "from timeit import timeit\n",
    "board = chess.Board()\n"
   ]
  },
  {
   "cell_type": "code",
   "execution_count": 17,
   "metadata": {},
   "outputs": [],
   "source": [
    "PIECE_TABLE = {\n",
    "    'P' : (0,1),\n",
    "    'p' : (1,-1),\n",
    "    'N' : (2,1),\n",
    "    'n' : (3,-1),\n",
    "    'B' : (4,1),\n",
    "    'b' : (5,-1),\n",
    "    'R' : (6,1),\n",
    "    'r' : (7,-1),\n",
    "    'Q' : (8,1),\n",
    "    'q' : (9,-1),\n",
    "    'K' : (10,1),\n",
    "    'k' : (11,-1)\n",
    "     \n",
    "}\n",
    "COLOR_TABLE = {\n",
    "    'w' : 1,\n",
    "    'b' : -1\n",
    "}"
   ]
  },
  {
   "cell_type": "code",
   "execution_count": 44,
   "metadata": {},
   "outputs": [],
   "source": [
    "def b2b():\n",
    "    out = np.zeros(768, dtype=np.float32)\n",
    "    for sq, p in board.piece_map().items():\n",
    "        sm = p.symbol()\n",
    "        idx = PIECE_TABLE[sm][0] * 64 + sq\n",
    "        out[idx] = PIECE_TABLE[sm][1] * (board.turn + (1 - board.turn) * -1)\n",
    "    return "
   ]
  },
  {
   "cell_type": "code",
   "execution_count": 45,
   "metadata": {},
   "outputs": [
    {
     "data": {
      "text/plain": [
       "23.42040800000541"
      ]
     },
     "execution_count": 45,
     "metadata": {},
     "output_type": "execute_result"
    }
   ],
   "source": [
    "timeit(b2b, number=1000000)"
   ]
  },
  {
   "cell_type": "code",
   "execution_count": 209,
   "metadata": {},
   "outputs": [],
   "source": [
    "ran_ge = np.arange(64, dtype=np.uint64)[::-1] # range exists as a built-in. sorry\n",
    "b_boards = np.array([n for n in range(1,12,2)])\n",
    "w_boards = np.array([n for n in range(0,11,2)])\n",
    "def b2b2(board: chess.Board):\n",
    "    p = np.array([board.pawns, board.knights, board.bishops, board.rooks, board.queens, board.kings], dtype=np.uint64)\n",
    "    pcolor = p[:, None] & np.array([board.occupied_co[1], board.occupied_co[0]], dtype=np.uint64)\n",
    "    pcolor = pcolor.flatten()\n",
    "    bitboard = (pcolor[:, None] & (1 << ran_ge)) > 0\n",
    "    bitboard = bitboard.astype(np.float32)\n",
    "    bitboard[w_boards] = bitboard[w_boards] * (board.turn + (1 - board.turn) * -1) # Negate white bits if black to move\n",
    "    bitboard[b_boards] = bitboard[b_boards] * (board.turn * -1 + (1 - board.turn) ) # Negate black bits if white to move\n",
    "    return torch.from_numpy(bitboard.flatten())"
   ]
  },
  {
   "cell_type": "code",
   "execution_count": 132,
   "metadata": {},
   "outputs": [
    {
     "data": {
      "text/plain": [
       "11.986394416999246"
      ]
     },
     "execution_count": 132,
     "metadata": {},
     "output_type": "execute_result"
    }
   ],
   "source": [
    "timeit(b2b2, number=1000000)\n"
   ]
  },
  {
   "cell_type": "code",
   "execution_count": 20,
   "metadata": {},
   "outputs": [],
   "source": [
    "from nn.model import nnEval_model_set1_v1, nnEval_model_set1_v2, BigNet, SmallNet\n",
    "from evalnn import nnEval_fn_set1_v1, nnEval_fn_set1_v2, board2bb_set1_v1, board2bb_set1_v2"
   ]
  },
  {
   "cell_type": "code",
   "execution_count": 4,
   "metadata": {},
   "outputs": [],
   "source": [
    "checkpoint = \"./nn/lightning_logs/version_14/checkpoints/epoch=4-step=126545.ckpt\"\n",
    "evalobj = nnEval_model_set1_v1.load_from_checkpoint(checkpoint, net=BigNet(768))\n",
    "eval_net = evalobj.net\n",
    "eval_func = Evalnn_fn(eval_net, board2bb)"
   ]
  },
  {
   "cell_type": "code",
   "execution_count": null,
   "metadata": {},
   "outputs": [],
   "source": [
    "board.push(searchAB(eval_func, board, 4)[1])\n",
    "board"
   ]
  },
  {
   "cell_type": "code",
   "execution_count": null,
   "metadata": {},
   "outputs": [],
   "source": [
    "board.push(chess.Move.from_uci('f6e4'))\n",
    "board"
   ]
  },
  {
   "cell_type": "code",
   "execution_count": 29,
   "metadata": {},
   "outputs": [],
   "source": [
    "smallnet_chkpt = './nn/lightning_logs/version_17/checkpoints/epoch=19-step=506180.ckpt'\n",
    "smallnet_test = nnEval_model_set1_v1.load_from_checkpoint(smallnet_chkpt, net=SmallNet(768))\n",
    "smallnet = smallnet_test.net\n",
    "small_eval = nnEval_fn_set1_v1(smallnet, board2bb_set1_v1)"
   ]
  },
  {
   "cell_type": "code",
   "execution_count": 4,
   "metadata": {},
   "outputs": [],
   "source": [
    "board = chess.Board()   "
   ]
  },
  {
   "cell_type": "code",
   "execution_count": 87,
   "metadata": {},
   "outputs": [
    {
     "data": {
      "text/plain": [
       "Move.from_uci('f4d6')"
      ]
     },
     "execution_count": 87,
     "metadata": {},
     "output_type": "execute_result"
    }
   ],
   "source": [
    "board.pop()"
   ]
  },
  {
   "cell_type": "code",
   "execution_count": null,
   "metadata": {},
   "outputs": [],
   "source": [
    "evaluation, move = searchAB(small_eval, board, 5)\n",
    "board.push(move)\n",
    "print(evaluation)\n",
    "board\n"
   ]
  },
  {
   "cell_type": "code",
   "execution_count": 15,
   "metadata": {},
   "outputs": [],
   "source": [
    "test = chess.Board()"
   ]
  },
  {
   "cell_type": "code",
   "execution_count": 5,
   "metadata": {},
   "outputs": [],
   "source": [
    "v2_chkpt = './nn/lightning_logs/version_18/checkpoints/epoch=19-step=506180.ckpt'\n",
    "v2_test = nnEval_model_set1_v2.load_from_checkpoint(v2_chkpt, net=SmallNet(768))\n",
    "v2net = v2_test.net\n",
    "v2_eval = nnEval_fn_set1_v2(v2net, board2bb_set1_v2)"
   ]
  },
  {
   "cell_type": "code",
   "execution_count": 7,
   "metadata": {},
   "outputs": [
    {
     "data": {
      "text/plain": [
       "tensor([68.3250], grad_fn=<MulBackward0>)"
      ]
     },
     "execution_count": 7,
     "metadata": {},
     "output_type": "execute_result"
    }
   ],
   "source": [
    "v2_eval(test)"
   ]
  },
  {
   "cell_type": "code",
   "execution_count": null,
   "metadata": {},
   "outputs": [],
   "source": [
    "evaluation, move = searchAB(v2_eval, board, 5)\n",
    "board.push(move)\n",
    "print(evaluation)\n",
    "board\n"
   ]
  },
  {
   "cell_type": "code",
   "execution_count": 49,
   "metadata": {},
   "outputs": [
    {
     "data": {
      "text/plain": [
       "array([0, 1, 2, 3, 4, 5, 6, 7])"
      ]
     },
     "execution_count": 49,
     "metadata": {},
     "output_type": "execute_result"
    }
   ],
   "source": [
    "np.arange(8)"
   ]
  },
  {
   "cell_type": "code",
   "execution_count": 50,
   "metadata": {},
   "outputs": [],
   "source": [
    "def getindices():\n",
    "    RANGE = np.arange(64, dtype=np.uint64)\n",
    "    p_vals = np.arange(10)\n",
    "    piece_bitboards = np.array([board.pawns, board.knights, board.bishops, board.rooks, board.queens], dtype=np.uint64)\n",
    "    piece_bitboards = piece_bitboards[:, None] & np.array([board.occupied_co[1], board.occupied_co[0]], dtype=np.uint64)\n",
    "    piece_bitboards = piece_bitboards.flatten()\n",
    "    piece_bitboards = (piece_bitboards[:, None] & (1 << RANGE)) > 0\n",
    "\n",
    "    piece_indices = (piece_bitboards * p_vals[:, None] * 64) + RANGE\n",
    "    w_indices = piece_indices + (board.king(1)) * 64 * 10\n",
    "    w_indices = w_indices * piece_bitboards\n",
    "    b_indices = piece_indices + (board.king(0)) * 64 * 10\n",
    "    b_indices = b_indices * piece_bitboards\n",
    "    return w_indices[w_indices != 0], b_indices[b_indices != 0]"
   ]
  },
  {
   "cell_type": "code",
   "execution_count": 40,
   "metadata": {},
   "outputs": [
    {
     "data": {
      "text/plain": [
       "18.062290375000885"
      ]
     },
     "execution_count": 40,
     "metadata": {},
     "output_type": "execute_result"
    }
   ],
   "source": [
    "timeit(getindices, number=1000000)"
   ]
  },
  {
   "cell_type": "code",
   "execution_count": 19,
   "metadata": {},
   "outputs": [],
   "source": [
    "from nn.parse import fen2halfKP_sparse, fen2bitboard\n"
   ]
  },
  {
   "cell_type": "code",
   "execution_count": 47,
   "metadata": {},
   "outputs": [
    {
     "data": {
      "text/plain": [
       "(array([2944, 2689, 2818, 3075, 2821, 2694, 2951, 2568, 2569, 2570, 2571,\n",
       "        2572, 2573, 2574, 2575, 2672, 2673, 2674, 2675, 2676, 2677, 2678,\n",
       "        2679, 3064, 2809, 2938, 3195, 2941, 2814, 3071]),\n",
       " array([38784, 38529, 38658, 38915, 38661, 38534, 38791, 38408, 38409,\n",
       "        38410, 38411, 38412, 38413, 38414, 38415, 38512, 38513, 38514,\n",
       "        38515, 38516, 38517, 38518, 38519, 38904, 38649, 38778, 39035,\n",
       "        38781, 38654, 38911]),\n",
       " 30,\n",
       " 1)"
      ]
     },
     "execution_count": 47,
     "metadata": {},
     "output_type": "execute_result"
    }
   ],
   "source": [
    "fen2halfKP_sparse(board.fen(), 30)"
   ]
  },
  {
   "cell_type": "code",
   "execution_count": 48,
   "metadata": {},
   "outputs": [
    {
     "data": {
      "text/plain": [
       "71776119061217280"
      ]
     },
     "execution_count": 48,
     "metadata": {},
     "output_type": "execute_result"
    }
   ],
   "source": [
    "board.pawns & board.occupied_co[0]"
   ]
  },
  {
   "cell_type": "code",
   "execution_count": 23,
   "metadata": {},
   "outputs": [],
   "source": [
    "pth = './nn/Datasets/halfKP_evals_sparse.npz'\n",
    "f = open(pth, 'rb')\n",
    "nu = np.load(f, allow_pickle=True)"
   ]
  },
  {
   "cell_type": "code",
   "execution_count": 65,
   "metadata": {},
   "outputs": [],
   "source": [
    "a = nu['white_feature_indices']\n",
    "c = nu['black_feature_indices']\n",
    "b = nu['num_active_features'].astype(int)\n",
    "d = nu['stms'].astype(int)"
   ]
  }
 ],
 "metadata": {
  "kernelspec": {
   "display_name": "Python 3.10.6 ('chessEnv')",
   "language": "python",
   "name": "python3"
  },
  "language_info": {
   "codemirror_mode": {
    "name": "ipython",
    "version": 3
   },
   "file_extension": ".py",
   "mimetype": "text/x-python",
   "name": "python",
   "nbconvert_exporter": "python",
   "pygments_lexer": "ipython3",
   "version": "3.11.0"
  },
  "orig_nbformat": 4,
  "vscode": {
   "interpreter": {
    "hash": "30483d3af4f01d4856a126e96d81b77856bb4c3d7643b5d1da62c50c9b7c63ae"
   }
  }
 },
 "nbformat": 4,
 "nbformat_minor": 2
}
